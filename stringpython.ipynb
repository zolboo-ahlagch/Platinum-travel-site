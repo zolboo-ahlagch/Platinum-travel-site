{
  "nbformat": 4,
  "nbformat_minor": 0,
  "metadata": {
    "colab": {
      "name": "Untitled1.ipynb",
      "provenance": [],
      "authorship_tag": "ABX9TyP5gqV3fEGxnAgNJSkrPo3F",
      "include_colab_link": true
    },
    "kernelspec": {
      "name": "python3",
      "display_name": "Python 3"
    }
  },
  "cells": [
    {
      "cell_type": "markdown",
      "metadata": {
        "id": "view-in-github",
        "colab_type": "text"
      },
      "source": [
        "<a href=\"https://colab.research.google.com/github/zolboo-ahlagch/Platinum-travel-site/blob/master/stringpython.ipynb\" target=\"_parent\"><img src=\"https://colab.research.google.com/assets/colab-badge.svg\" alt=\"Open In Colab\"/></a>"
      ]
    },
    {
      "cell_type": "code",
      "metadata": {
        "colab": {
          "base_uri": "https://localhost:8080/"
        },
        "id": "edhkdCyXESr_",
        "outputId": "70d51e4e-6b0f-4f69-e993-47634da4c5e9"
      },
      "source": [
        "txt = \"пайтон бол бол бол хамгийн шилдэг програмчлалын хэл юм.\"\r\n",
        "a = \"monty python\"\r\n",
        "print(a[6:10])\r\n",
        "print(a[:-1]) # хойноос нь нэг тэмдэгтийг хасна.\r\n",
        "print(a[2:])\r\n",
        "print(len(a)) # тэмдэг мөрийн уртыг авна.\r\n",
        "print(txt)\r\n",
        "print(txt.upper())   # бүх үсгийг том болгоно\r\n",
        "print(txt.lower())  # бүх үсгийг жижиг болгоно\r\n",
        "print(txt.capitalize())  # үг болон өгүүлбэрт байх хамгийн эхний үсгийг том болгоно\r\n",
        "print(txt.count(\"бол\"))  # бол гэдэг үг өгүүлбэрт хэд байгааг тоолно\r\n",
        "print(txt.replace(\"бол\",\"хамгийн\"))  # өгүүлбэрт байх бол гэсэн үгийг хамгийн болгон өөрчилнө\r\n",
        "print(txt[2:5])  # 2 дугаар байрлалд байх тэмдэгтээс эхлээд 5 дугаар байрлал дахь тэмдэгт хүртэлх тэмтэгтийг хэвлэх // txt үр дүнд йто"
      ],
      "execution_count": 13,
      "outputs": [
        {
          "output_type": "stream",
          "text": [
            "pyth\n",
            "monty pytho\n",
            "nty python\n",
            "12\n",
            "пайтон бол бол бол хамгийн шилдэг програмчлалын хэл юм.\n",
            "ПАЙТОН БОЛ БОЛ БОЛ ХАМГИЙН ШИЛДЭГ ПРОГРАМЧЛАЛЫН ХЭЛ ЮМ.\n",
            "пайтон бол бол бол хамгийн шилдэг програмчлалын хэл юм.\n",
            "Пайтон бол бол бол хамгийн шилдэг програмчлалын хэл юм.\n",
            "3\n",
            "пайтон хамгийн хамгийн хамгийн хамгийн шилдэг програмчлалын хэл юм.\n",
            "йто\n"
          ],
          "name": "stdout"
        }
      ]
    }
  ]
}